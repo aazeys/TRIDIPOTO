{
  "nbformat": 4,
  "nbformat_minor": 0,
  "metadata": {
    "colab": {
      "name": "3D_FOTO_BANG.ipynb",
      "provenance": [],
      "collapsed_sections": [
        "djaMOZkQo_wX",
        "Q84zCKSjpf7D",
        "lvr-bJkdp7ZL"
      ],
      "toc_visible": true,
      "include_colab_link": true
    },
    "kernelspec": {
      "name": "python3",
      "display_name": "Python 3"
    }
  },
  "cells": [
    {
      "cell_type": "markdown",
      "metadata": {
        "id": "view-in-github",
        "colab_type": "text"
      },
      "source": [
        "<a href=\"https://colab.research.google.com/github/aazeys/TRIDIPOTO/blob/main/3D_FOTO_BANG.ipynb\" target=\"_parent\"><img src=\"https://colab.research.google.com/assets/colab-badge.svg\" alt=\"Open In Colab\"/></a>"
      ]
    },
    {
      "cell_type": "markdown",
      "metadata": {
        "id": "N3kre-V32c97"
      },
      "source": [
        "## **3D FOTO BANG**\n",
        "### *Follow my IG @zzeyz._o*"
      ]
    },
    {
      "cell_type": "markdown",
      "metadata": {
        "id": "f8hXbShouJdH"
      },
      "source": [
        "\n",
        "<p><a href=\"https://www.instagram.com/zzeyz._o/\"><img src=\"https://upload.wikimedia.org/wikipedia/commons/thumb/a/a5/Instagram_icon.png/64px-Instagram_icon.png\" alt=\"ko-fi\" data-canonical-src=\"https://www.ko-fi.com/img/githubbutton_sm.svg\"></a></p>\n",
        "<b><i>\n",
        "\n",
        "```\n",
        "`Bagi Kopinya Bang :(`\n",
        "```\n",
        "\n",
        "<i></b>"
      ]
    },
    {
      "cell_type": "markdown",
      "metadata": {
        "id": "djaMOZkQo_wX"
      },
      "source": [
        "### 1. Instalasi ( Butuh -+ 5 menit Bang )"
      ]
    },
    {
      "cell_type": "code",
      "metadata": {
        "id": "5o-EIMeaghU0",
        "cellView": "form"
      },
      "source": [
        "#@title\n",
        "!pip3 install -q torch==1.4.0+cu100 torchvision==0.5.0+cu100 -f https://download.pytorch.org/whl/torch_stable.html\n",
        "!pip3 install -q opencv-python==4.2.0.32\n",
        "!pip3 install -q vispy==0.6.4\n",
        "!pip3 install -q moviepy==1.0.2\n",
        "!pip3 install -q transforms3d==0.3.1\n",
        "!pip3 install -q networkx==2.3\n",
        "!pip install -q PyDrive\n",
        "!pip3 install -q sed"
      ],
      "execution_count": null,
      "outputs": []
    },
    {
      "cell_type": "markdown",
      "metadata": {
        "id": "ouA92XqopSqg"
      },
      "source": [
        "### 2. Auth ke Account Goole "
      ]
    },
    {
      "cell_type": "code",
      "metadata": {
        "id": "n-Kl6fo1oows"
      },
      "source": [
        "![ -e 3D-FOTO ] && rm -r 3D-FOTO\n",
        "\n",
        "from pydrive.auth import GoogleAuth\n",
        "from pydrive.drive import GoogleDrive\n",
        "from google.colab import auth\n",
        "from oauth2client.client import GoogleCredentials\n",
        "\n",
        "auth.authenticate_user()\n",
        "gauth = GoogleAuth()\n",
        "gauth.credentials = GoogleCredentials.get_application_default()\n",
        "drive = GoogleDrive(gauth)\n",
        "downloaded = drive.CreateFile({'id':\"1hPr-Tziw6IRI84scdTB63z9wFiAnZml4\"})\n",
        "downloaded.GetContentFile('TRIDIFOTOBANG.zip')"
      ],
      "execution_count": 1,
      "outputs": []
    },
    {
      "cell_type": "markdown",
      "metadata": {
        "id": "Q84zCKSjpf7D"
      },
      "source": [
        "### 3. Unzip File && Setting"
      ]
    },
    {
      "cell_type": "code",
      "metadata": {
        "id": "seX7gKalBPiH",
        "cellView": "form",
        "outputId": "e44a97b0-d86e-418f-fdcd-04bbc0abec8b",
        "colab": {
          "base_uri": "https://localhost:8080/",
          "height": 0
        }
      },
      "source": [
        "#@title\n",
        "%%bash\n",
        "unzip TRIDIFOTOBANG.zip\n",
        "rm TRIDIFOTOBANG.zip"
      ],
      "execution_count": 2,
      "outputs": [
        {
          "output_type": "stream",
          "text": [
            "Archive:  TRIDIFOTOBANG.zip\n",
            "   creating: 3D-FOTO/\n",
            "  inflating: 3D-FOTO/utils.py        \n",
            "   creating: 3D-FOTO/MiDaS/\n",
            "  inflating: 3D-FOTO/MiDaS/monodepth_net.py  \n",
            "  inflating: 3D-FOTO/MiDaS/MiDaS_utils.py  \n",
            "  inflating: 3D-FOTO/MiDaS/model.pt  \n",
            "  inflating: 3D-FOTO/MiDaS/run.py    \n",
            "   creating: 3D-FOTO/video/\n",
            "  inflating: 3D-FOTO/main.py         \n",
            "   creating: 3D-FOTO/depth/\n",
            "   creating: 3D-FOTO/checkpoints/\n",
            "  inflating: 3D-FOTO/checkpoints/color-model.pth  \n",
            "  inflating: 3D-FOTO/checkpoints/depth-model.pth  \n",
            "  inflating: 3D-FOTO/checkpoints/edge-model.pth  \n",
            "  inflating: 3D-FOTO/mesh.py         \n",
            "  inflating: 3D-FOTO/README.md       \n",
            "  inflating: 3D-FOTO/mesh_tools.py   \n",
            "  inflating: 3D-FOTO/LICENSE         \n",
            "   creating: 3D-FOTO/misc/\n",
            "  inflating: 3D-FOTO/misc/moon_40.gif  \n",
            "   creating: 3D-FOTO/image/\n",
            "  inflating: 3D-FOTO/argument.yml    \n",
            "  inflating: 3D-FOTO/networks.py     \n"
          ],
          "name": "stdout"
        }
      ]
    },
    {
      "cell_type": "code",
      "metadata": {
        "id": "y3p-239gGKxy",
        "cellView": "form",
        "outputId": "99940961-1446-4f63-b74d-1a544b4bf2c6",
        "colab": {
          "base_uri": "https://localhost:8080/",
          "height": 0
        }
      },
      "source": [
        "#@title\n",
        "%cd  3D-FOTO"
      ],
      "execution_count": 3,
      "outputs": [
        {
          "output_type": "stream",
          "text": [
            "/content/3D-FOTO\n"
          ],
          "name": "stdout"
        }
      ]
    },
    {
      "cell_type": "code",
      "metadata": {
        "id": "dNP0nUjCtN7x",
        "cellView": "form"
      },
      "source": [
        "#@title\n",
        "!sed -i 's/save_ply: True/save_ply: False/' argument.yml"
      ],
      "execution_count": 4,
      "outputs": []
    },
    {
      "cell_type": "code",
      "metadata": {
        "id": "SAFNLxFruuVv",
        "cellView": "form"
      },
      "source": [
        "#@title\n",
        "!sed -i 's/offscreen_rendering: True/offscreen_rendering: False/g' argument.yml"
      ],
      "execution_count": 5,
      "outputs": []
    },
    {
      "cell_type": "markdown",
      "metadata": {
        "id": "6HTBJE3ipqIr"
      },
      "source": [
        "### 4. Upload file .jpg (Lower case inget!!!)"
      ]
    },
    {
      "cell_type": "code",
      "metadata": {
        "id": "7tpMX25X8HYh",
        "cellView": "both"
      },
      "source": [
        "#Hapus semua file di Folder \n",
        "!rm -rf /content/3D-FOTO/image/*"
      ],
      "execution_count": 9,
      "outputs": []
    },
    {
      "cell_type": "code",
      "metadata": {
        "id": "vmX2ZWus9UrU",
        "cellView": "both"
      },
      "source": [
        "#@title\n",
        "import os\n",
        "import shutil\n",
        "from google.colab import files\n",
        "\n",
        "uploaded = files.upload()\n",
        "pic_name = list(uploaded.keys())[0]\n",
        "\n",
        "if(pic_name.split(\".\")[1].lower() != \"jpg\"):\n",
        "  print(\"YOU MUST UPLOAD A .jpg FILE!! Re-run this cell and upload a pic with jpg extension\")\n",
        "  os.remove(\"./\" + pic_name)\n",
        "else:\n",
        "  shutil.move(\"./\" + pic_name, \"/content/3D-FOTO/image/\" + pic_name)"
      ],
      "execution_count": null,
      "outputs": []
    },
    {
      "cell_type": "markdown",
      "metadata": {
        "id": "a1oPytpfpynI"
      },
      "source": [
        "### 5. Proses ( agak lama sih tunggu aja bang )"
      ]
    },
    {
      "cell_type": "code",
      "metadata": {
        "id": "zo5uPQuBgw2j",
        "cellView": "form"
      },
      "source": [
        "#@title\n",
        "%%time\n",
        "!python main.py --config argument.yml"
      ],
      "execution_count": null,
      "outputs": []
    },
    {
      "cell_type": "markdown",
      "metadata": {
        "id": "lvr-bJkdp7ZL"
      },
      "source": [
        "### 6. Download Result"
      ]
    },
    {
      "cell_type": "code",
      "metadata": {
        "id": "haUeUydd1220",
        "cellView": "form",
        "outputId": "6d8e530c-6811-4b85-abee-956ab8282b66",
        "colab": {
          "base_uri": "https://localhost:8080/",
          "height": 0
        }
      },
      "source": [
        "#@title\n",
        "directory = '/content/3D-FOTO/video'\n",
        "for filename in os.listdir(directory):\n",
        "    if (filename.endswith(\".mp4\")): \n",
        "         files.download(os.path.join(directory, filename))\n"
      ],
      "execution_count": 9,
      "outputs": [
        {
          "output_type": "display_data",
          "data": {
            "application/javascript": [
              "\n",
              "    async function download(id, filename, size) {\n",
              "      if (!google.colab.kernel.accessAllowed) {\n",
              "        return;\n",
              "      }\n",
              "      const div = document.createElement('div');\n",
              "      const label = document.createElement('label');\n",
              "      label.textContent = `Downloading \"${filename}\": `;\n",
              "      div.appendChild(label);\n",
              "      const progress = document.createElement('progress');\n",
              "      progress.max = size;\n",
              "      div.appendChild(progress);\n",
              "      document.body.appendChild(div);\n",
              "\n",
              "      const buffers = [];\n",
              "      let downloaded = 0;\n",
              "\n",
              "      const channel = await google.colab.kernel.comms.open(id);\n",
              "      // Send a message to notify the kernel that we're ready.\n",
              "      channel.send({})\n",
              "\n",
              "      for await (const message of channel.messages) {\n",
              "        // Send a message to notify the kernel that we're ready.\n",
              "        channel.send({})\n",
              "        if (message.buffers) {\n",
              "          for (const buffer of message.buffers) {\n",
              "            buffers.push(buffer);\n",
              "            downloaded += buffer.byteLength;\n",
              "            progress.value = downloaded;\n",
              "          }\n",
              "        }\n",
              "      }\n",
              "      const blob = new Blob(buffers, {type: 'application/binary'});\n",
              "      const a = document.createElement('a');\n",
              "      a.href = window.URL.createObjectURL(blob);\n",
              "      a.download = filename;\n",
              "      div.appendChild(a);\n",
              "      a.click();\n",
              "      div.remove();\n",
              "    }\n",
              "  "
            ],
            "text/plain": [
              "<IPython.core.display.Javascript object>"
            ]
          },
          "metadata": {
            "tags": []
          }
        },
        {
          "output_type": "display_data",
          "data": {
            "application/javascript": [
              "download(\"download_bf496c0b-7133-4434-89bf-4b332f50dbec\", \"angeline _1_straight-line.mp4\", 343496)"
            ],
            "text/plain": [
              "<IPython.core.display.Javascript object>"
            ]
          },
          "metadata": {
            "tags": []
          }
        },
        {
          "output_type": "display_data",
          "data": {
            "application/javascript": [
              "\n",
              "    async function download(id, filename, size) {\n",
              "      if (!google.colab.kernel.accessAllowed) {\n",
              "        return;\n",
              "      }\n",
              "      const div = document.createElement('div');\n",
              "      const label = document.createElement('label');\n",
              "      label.textContent = `Downloading \"${filename}\": `;\n",
              "      div.appendChild(label);\n",
              "      const progress = document.createElement('progress');\n",
              "      progress.max = size;\n",
              "      div.appendChild(progress);\n",
              "      document.body.appendChild(div);\n",
              "\n",
              "      const buffers = [];\n",
              "      let downloaded = 0;\n",
              "\n",
              "      const channel = await google.colab.kernel.comms.open(id);\n",
              "      // Send a message to notify the kernel that we're ready.\n",
              "      channel.send({})\n",
              "\n",
              "      for await (const message of channel.messages) {\n",
              "        // Send a message to notify the kernel that we're ready.\n",
              "        channel.send({})\n",
              "        if (message.buffers) {\n",
              "          for (const buffer of message.buffers) {\n",
              "            buffers.push(buffer);\n",
              "            downloaded += buffer.byteLength;\n",
              "            progress.value = downloaded;\n",
              "          }\n",
              "        }\n",
              "      }\n",
              "      const blob = new Blob(buffers, {type: 'application/binary'});\n",
              "      const a = document.createElement('a');\n",
              "      a.href = window.URL.createObjectURL(blob);\n",
              "      a.download = filename;\n",
              "      div.appendChild(a);\n",
              "      a.click();\n",
              "      div.remove();\n",
              "    }\n",
              "  "
            ],
            "text/plain": [
              "<IPython.core.display.Javascript object>"
            ]
          },
          "metadata": {
            "tags": []
          }
        },
        {
          "output_type": "display_data",
          "data": {
            "application/javascript": [
              "download(\"download_f17aedf7-a8f8-499b-8645-0798b3517068\", \"angeline _1_swing.mp4\", 440403)"
            ],
            "text/plain": [
              "<IPython.core.display.Javascript object>"
            ]
          },
          "metadata": {
            "tags": []
          }
        }
      ]
    }
  ]
}