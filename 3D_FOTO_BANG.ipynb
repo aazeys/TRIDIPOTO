{
  "nbformat": 4,
  "nbformat_minor": 0,
  "metadata": {
    "colab": {
      "name": "3D FOTO BANG.ipynb",
      "provenance": [],
      "collapsed_sections": [
        "djaMOZkQo_wX",
        "Q84zCKSjpf7D",
        "lvr-bJkdp7ZL"
      ],
      "toc_visible": true
    },
    "kernelspec": {
      "name": "python3",
      "display_name": "Python 3"
    }
  },
  "cells": [
    {
      "cell_type": "markdown",
      "metadata": {
        "id": "N3kre-V32c97"
      },
      "source": [
        "## **3D FOTO BANG**\n",
        "### *Follow my IG @zzeyz._o*"
      ]
    },
    {
      "cell_type": "markdown",
      "metadata": {
        "id": "f8hXbShouJdH"
      },
      "source": [
        "\n",
        "<p><a href=\"https://www.instagram.com/zzeyz._o/\"><img src=\"https://upload.wikimedia.org/wikipedia/commons/thumb/a/a5/Instagram_icon.png/64px-Instagram_icon.png\" alt=\"ko-fi\" data-canonical-src=\"https://www.ko-fi.com/img/githubbutton_sm.svg\"></a></p>\n",
        "<b><i>\n",
        "\n",
        "```\n",
        "`Bagi Kopinya Bang :(`\n",
        "```\n",
        "\n",
        "<i></b>"
      ]
    },
    {
      "cell_type": "markdown",
      "metadata": {
        "id": "djaMOZkQo_wX"
      },
      "source": [
        "### 1. Instalasi ( Butuh -+ 5 menit Bang )"
      ]
    },
    {
      "cell_type": "code",
      "metadata": {
        "id": "5o-EIMeaghU0",
        "cellView": "form"
      },
      "source": [
        "#@title\n",
        "!pip3 install -q torch==1.4.0+cu100 torchvision==0.5.0+cu100 -f https://download.pytorch.org/whl/torch_stable.html\n",
        "!pip3 install -q opencv-python==4.2.0.32\n",
        "!pip3 install -q vispy==0.6.4\n",
        "!pip3 install -q moviepy==1.0.2\n",
        "!pip3 install -q transforms3d==0.3.1\n",
        "!pip3 install -q networkx==2.3\n",
        "!pip install -q PyDrive\n",
        "!sudo install -q sed"
      ],
      "execution_count": null,
      "outputs": []
    },
    {
      "cell_type": "markdown",
      "metadata": {
        "id": "ouA92XqopSqg"
      },
      "source": [
        "### 2. Auth ke Account Goole "
      ]
    },
    {
      "cell_type": "code",
      "metadata": {
        "id": "n-Kl6fo1oows"
      },
      "source": [
        "![ -e 3D-FOTO ] && rm -r 3D-FOTO\n",
        "\n",
        "from pydrive.auth import GoogleAuth\n",
        "from pydrive.drive import GoogleDrive\n",
        "from google.colab import auth\n",
        "from oauth2client.client import GoogleCredentials\n",
        "\n",
        "auth.authenticate_user()\n",
        "gauth = GoogleAuth()\n",
        "gauth.credentials = GoogleCredentials.get_application_default()\n",
        "drive = GoogleDrive(gauth)\n",
        "downloaded = drive.CreateFile({'id':\"1hPr-Tziw6IRI84scdTB63z9wFiAnZml4\"})\n",
        "downloaded.GetContentFile('TRIDIFOTOBANG.zip')"
      ],
      "execution_count": null,
      "outputs": []
    },
    {
      "cell_type": "markdown",
      "metadata": {
        "id": "Q84zCKSjpf7D"
      },
      "source": [
        "### 3. Unzip File && Setting"
      ]
    },
    {
      "cell_type": "code",
      "metadata": {
        "id": "seX7gKalBPiH",
        "cellView": "form"
      },
      "source": [
        "#@title\n",
        "%%bash\n",
        "unzip TRIDIFOTOBANG.zip\n",
        "rm TRIDIFOTOBANG.zip"
      ],
      "execution_count": null,
      "outputs": []
    },
    {
      "cell_type": "code",
      "metadata": {
        "id": "y3p-239gGKxy",
        "cellView": "form"
      },
      "source": [
        "#@title\n",
        "cd 3D-FOTO"
      ],
      "execution_count": null,
      "outputs": []
    },
    {
      "cell_type": "code",
      "metadata": {
        "id": "dNP0nUjCtN7x",
        "cellView": "form"
      },
      "source": [
        "#@title\n",
        "!sed -i 's/save_ply: True/save_ply: False/' argument.yml"
      ],
      "execution_count": null,
      "outputs": []
    },
    {
      "cell_type": "code",
      "metadata": {
        "id": "SAFNLxFruuVv",
        "cellView": "form"
      },
      "source": [
        "#@title\n",
        "!sed -i 's/offscreen_rendering: True/offscreen_rendering: False/g' argument.yml"
      ],
      "execution_count": null,
      "outputs": []
    },
    {
      "cell_type": "markdown",
      "metadata": {
        "id": "6HTBJE3ipqIr"
      },
      "source": [
        "### 4. Upload file .jpg (Lower case inget!!!)"
      ]
    },
    {
      "cell_type": "code",
      "metadata": {
        "id": "vmX2ZWus9UrU",
        "cellView": "form"
      },
      "source": [
        "#@title\n",
        "import os\n",
        "import shutil\n",
        "from google.colab import files\n",
        "\n",
        "uploaded = files.upload()\n",
        "pic_name = list(uploaded.keys())[0]\n",
        "\n",
        "if(pic_name.split(\".\")[1].lower() != \"jpg\"):\n",
        "  print(\"YOU MUST UPLOAD A .jpg FILE!! Re-run this cell and upload a pic with jpg extension\")\n",
        "  os.remove(\"./\" + pic_name)\n",
        "else:\n",
        "  shutil.move(\"./\" + pic_name, \"/content/3D-FOTO/image/\" + pic_name)"
      ],
      "execution_count": null,
      "outputs": []
    },
    {
      "cell_type": "markdown",
      "metadata": {
        "id": "a1oPytpfpynI"
      },
      "source": [
        "### 5. Proses ( agak lama sih tunggu aja bang )"
      ]
    },
    {
      "cell_type": "code",
      "metadata": {
        "id": "zo5uPQuBgw2j",
        "cellView": "form"
      },
      "source": [
        "#@title\n",
        "%%time\n",
        "!python main.py --config argument.yml"
      ],
      "execution_count": null,
      "outputs": []
    },
    {
      "cell_type": "markdown",
      "metadata": {
        "id": "lvr-bJkdp7ZL"
      },
      "source": [
        "### 6. Download Result"
      ]
    },
    {
      "cell_type": "code",
      "metadata": {
        "id": "haUeUydd1220",
        "cellView": "form"
      },
      "source": [
        "#@title\n",
        "directory = '/content/3D-FOTO/video'\n",
        "for filename in os.listdir(directory):\n",
        "    if (filename.endswith(\".mp4\")): \n",
        "         files.download(os.path.join(directory, filename))\n"
      ],
      "execution_count": null,
      "outputs": []
    }
  ]
}